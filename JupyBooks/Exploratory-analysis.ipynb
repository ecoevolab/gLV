{
 "cells": [
  {
   "cell_type": "markdown",
   "id": "eef6c753",
   "metadata": {},
   "source": [
    "## Exploratory data analysis\n",
    "\n",
    "This code performs an exploratory data analysis of the metrics calculated from the extinction events. The analyzed metrics include:\n",
    "\n",
    "* Number of new extinctions (new_ext)\n",
    "\n",
    "* Bray–Curtis dissimilarity (BC_diss)\n",
    "\n",
    "* Keystoneness (K_s)\n",
    "\n",
    "* Time to stability after extinctions (ext_ts)"
   ]
  },
  {
   "cell_type": "code",
   "execution_count": null,
   "id": "b89da549",
   "metadata": {},
   "outputs": [],
   "source": [
    "# Load data\n",
    "import pandas as pd\n",
    "import os\n",
    "\n",
    "# Section: Generate-paths\n",
    "exp_dir = \"/mnt/data/sur/users/mrivera/Train-sims/4379fd40-9f0a\"\n",
    "tgt_dir = os.path.join(exp_dir, \"GNN-targets\")\n",
    "data_path = os.path.join(exp_dir, \"parameters-sims.tsv\")\n",
    "\n",
    "#  Load-data\n",
    "data = pd.read_csv(data_path, sep=\"\\t\")\n",
    "d20 = data.loc[data['n_species'] == 20]['id']\n",
    "d100 = data.loc[data['n_species'] == 100]['id']"
   ]
  },
  {
   "cell_type": "markdown",
   "id": "668ca724",
   "metadata": {},
   "source": [
    "# 20-species\n",
    "We will be plotting extinctions distribution separated by number of species."
   ]
  },
  {
   "cell_type": "code",
   "execution_count": null,
   "id": "db791bb3",
   "metadata": {},
   "outputs": [],
   "source": [
    "\n",
    "import pyarrow.feather as ft\n",
    "import numpy as np\n",
    "from multiprocessing import Pool\n",
    "from sys import getsizeof\n",
    "\n",
    "def read_data(id):\n",
    "    x = ft.read_table(os.path.join(tgt_dir, f'tgt_{id}.feather'))\n",
    "    ext = x['new_ext'].to_pandas()\n",
    "    Bc = round(x['BC_diss'].to_pandas(), 5)\n",
    "    Ks = round(x['K_s'].to_pandas(), 5)\n",
    "    return ext, Bc, Ks\n",
    "\n",
    "# Generate function for extracting data\n",
    "def par_dat(ids):\n",
    "    ext, Bc, Ks = [], [], []\n",
    "    if __name__ == '__main__':\n",
    "        with Pool(processes=8) as pool:\n",
    "            results = pool.map(read_data, ids)\n",
    "        # Unpack and convert to numpy arrays\n",
    "        ext, Bc, Ks = map(np.array, zip(*results))\n",
    "        # Flatten/concatenate the vectors\n",
    "        ext = np.concatenate(ext)\n",
    "        Bc = np.concatenate(Bc)\n",
    "        Ks = np.concatenate(Ks)\n",
    "    return ext, Bc, Ks\n",
    "\n",
    "# 20 (specs)* Number of simulations with 20 species\n",
    "ext20, Bc20, Ks20 = par_dat(ids=d20)\n",
    "ext100, Bc100, Ks100 = par_dat(ids=d100)\n",
    "# getsizeof(ext100) / (1024 ** 2) \n",
    "uniques = dict.fromkeys(ext100)\n",
    "print(f\" >> The number of extinctions for 20 species is {len(ext20)} it should be 20*{len(d20)}={20 * len(d20)}\")\n"
   ]
  },
  {
   "cell_type": "markdown",
   "id": "20db5beb",
   "metadata": {},
   "source": [
    "## Extinctions distribution\n",
    "We generate a function to compare the distribution of the number of extinctions"
   ]
  },
  {
   "cell_type": "code",
   "execution_count": null,
   "id": "07bf7eed",
   "metadata": {},
   "outputs": [],
   "source": [
    "import matplotlib.pyplot as plt\n",
    "import seaborn as sns\n",
    "\n",
    "# Generate counting \n",
    "labels20, counts20 = np.unique(ext20, return_counts=True)\n",
    "labels100, counts100 = np.unique(ext100, return_counts=True)\n",
    "\n",
    "def pie_dat(labels, counts):\n",
    "    # Filter by >5% of data\n",
    "    rel = counts/sum(counts)\n",
    "    labels_final, counts_final, fail_counts = labels[rel > 0.05],  counts[rel > 0.05], counts[rel <= 0.05].sum()\n",
    "    # Pie chart final labels and counts\n",
    "    pie_labels= np.append(labels_final, 'other')\n",
    "    pie_counts= np.append(counts_final, fail_counts)\n",
    "    return pie_counts, pie_labels\n",
    "\n",
    "# Generate pie chart data\n",
    "pie_20, pie_labels20 = pie_dat(labels = labels20, counts = counts20)\n",
    "pie_100, pie_labels100 = pie_dat(labels = labels100, counts = counts100)\n",
    "\n",
    "# Generate the pie chart\n",
    "plt.clf()  # Clear the entire figure\n",
    "fig, (ax1, ax2) = plt.subplots(1, 2, figsize=(12, 5))\n",
    "colors = sns.color_palette('pastel')\n",
    "\n",
    "# First pie chart\n",
    "ax1.pie(pie_20, labels = pie_labels20, autopct='%1.1f%%', colors = colors,\n",
    "        wedgeprops={'edgecolor': 'black', 'linewidth': 0.5},\n",
    "        startangle=90,\n",
    "        )\n",
    "ax1.set_title('Number of extinctions in 20 species data')\n",
    "\n",
    "# Second pie chart\n",
    "ax2.pie(pie_100, labels=pie_labels100, autopct='%1.1f%%', colors = colors,\n",
    "        wedgeprops={'edgecolor': 'black', 'linewidth': 0.5},\n",
    "        startangle=90,\n",
    "        )\n",
    "ax2.set_title('Number of extinctions in 100 species data')\n",
    "\n",
    "plt.tight_layout()\n",
    "plt.savefig('/mnt/data/sur/users/mrivera/Plots/plot.png', dpi = 300)  # Saves as PNG"
   ]
  },
  {
   "cell_type": "markdown",
   "id": "f54f3e1e",
   "metadata": {},
   "source": [
    "# Correlation between variables"
   ]
  },
  {
   "cell_type": "code",
   "execution_count": null,
   "id": "1688e504",
   "metadata": {},
   "outputs": [],
   "source": [
    "# ext20, Bc20, Ks20 = par_dat(ids=d20)\n",
    "# ext100, Bc100, Ks100 = par_dat(ids=d100)\n",
    "import numpy as np \n",
    "from scipy.stats import pearsonr\n",
    "\n",
    "def correlate(var1, var2, name1, name2):\n",
    "    corr, pvalue = pearsonr(var1, var2)\n",
    "    if pvalue <= 0.05:\n",
    "        direction = \"positively\" if corr > 0 else \"negatively\"\n",
    "        print(f'>> {name1} is {direction} correlated with {name2}')\n",
    "        print(f'   r = {corr:.3f}, p = {pvalue}')\n",
    "    else:\n",
    "        print(f'>> {name1} is NOT significantly correlated with {name2}')\n",
    "        print(f'   r = {corr:.3f}, p = {pvalue} (not significant)')\n",
    "\n",
    "# Run analyses\n",
    "correlate(ext20, Bc20, \"Extinctions\", \"Bray-Curtis\")\n",
    "correlate(ext20, Ks20, \"Extinctions\", \"Keystoneness\")\n",
    "correlate(Ks20, Bc20, \"Keystoneness\", \"Bray-Curtis\")\n"
   ]
  },
  {
   "cell_type": "markdown",
   "id": "e7c4bd62",
   "metadata": {},
   "source": [
    "# Distribution of keystoness"
   ]
  },
  {
   "cell_type": "code",
   "execution_count": null,
   "id": "cf7e66ae",
   "metadata": {},
   "outputs": [],
   "source": [
    "q25, q75 = np.percentile(x, [25, 75])\n",
    "bin_width = 2 * (q75 - q25) * len(x) ** (-1/3)\n",
    "bins = round((x.max() - x.min()) / bin_width)"
   ]
  }
 ],
 "metadata": {
  "language_info": {
   "name": "python"
  }
 },
 "nbformat": 4,
 "nbformat_minor": 5
}
