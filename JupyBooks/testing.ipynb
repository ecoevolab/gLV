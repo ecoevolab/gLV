{
 "cells": [
  {
   "cell_type": "markdown",
   "id": "66685f45",
   "metadata": {},
   "source": [
    "# Learning how jupyter notebooks work\n",
    "\n",
    "```python\n",
    "# This code will be shown, not executed\n",
    "print(\"Hello, world!\")\n",
    "```"
   ]
  }
 ],
 "metadata": {
  "language_info": {
   "name": "python"
  }
 },
 "nbformat": 4,
 "nbformat_minor": 5
}
