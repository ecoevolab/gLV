{
 "cells": [
  {
   "cell_type": "markdown",
   "id": "d2ceccb1",
   "metadata": {},
   "source": [
    "# Explanation\n",
    "\n",
    "This notebook is designed for the training and validation of Graph Neural Network (GNN) models using pre-batched input data."
   ]
  },
  {
   "cell_type": "markdown",
   "id": "56c1f135",
   "metadata": {},
   "source": [
    "## 1 Seeding\n",
    "We set random seeds for PyTorch (CPU and GPU), NumPy, and Python’s random module to ensure reproducibility. CUDA is also configured to run deterministically."
   ]
  },
  {
   "cell_type": "code",
   "execution_count": null,
   "id": "33c04b28",
   "metadata": {},
   "outputs": [],
   "source": [
    "import torch \n",
    "import numpy as np \n",
    "import random \n",
    "\n",
    "# Define function for seeding\n",
    "def set_seed(seed=42):\n",
    "    # Set ALL seeds for full reproducibility\n",
    "    torch.manual_seed(seed)                     # Seed CPU \n",
    "    torch.cuda.manual_seed(seed)                # Seed GPU\n",
    "    np.random.seed(seed)                        # Seed numpy\n",
    "    random.seed(seed)                           # Seed python random\n",
    "    torch.backends.cudnn.deterministic = True   # Ensure deterministic behavior\n",
    "    torch.backends.cudnn.benchmark = False   \n",
    "\n",
    "set_seed(seed=54)  # Ensure reproducibility"
   ]
  },
  {
   "cell_type": "markdown",
   "id": "d32d6b8b",
   "metadata": {},
   "source": [
    "Load the file paths for the previously generated training and validation data batches."
   ]
  },
  {
   "cell_type": "code",
   "execution_count": null,
   "id": "31a974ac",
   "metadata": {},
   "outputs": [],
   "source": [
    "\n",
    "# Load data\n",
    "import glob\n",
    "\n",
    "dpath = \"/home/mriveraceron/data/4379fd40-9f0a\"\n",
    "train_path = glob.glob(f'{dpath}/TrainBatch_*.pt')\n",
    "val_path = glob.glob(f'{dpath}/ValBatch_*.pt')"
   ]
  },
  {
   "cell_type": "markdown",
   "id": "5f433ddc",
   "metadata": {},
   "source": [
    "We declare our GNN model with its architecture (`GraphConv`)."
   ]
  },
  {
   "cell_type": "code",
   "execution_count": null,
   "id": "229cdcc1",
   "metadata": {},
   "outputs": [],
   "source": [
    "# SECTION: Define-GNN\n",
    "import torch.nn as nn\n",
    "import torch.nn.functional as F\n",
    "from torch_geometric.nn import GraphConv\n",
    "import torch.optim as optim\n",
    "\n",
    "class simple_gnn_gcn(nn.Module):\n",
    "    def __init__(self, hidden_channels=64):\n",
    "        super().__init__()\n",
    "        self.conv1 = GraphConv(1, hidden_channels)\n",
    "        self.conv2 = GraphConv(hidden_channels, 1)\n",
    "    def forward(self, data):\n",
    "        x, edge_index, edge_weight = data.x, data.edge_index, data.edge_weights\n",
    "        x = self.conv1(x, edge_index, edge_weight)\n",
    "        x = F.relu(x)\n",
    "        x = self.conv2(x, edge_index, edge_weight)\n",
    "        x = torch.sigmoid(x)  # Outputs between 0-1\n",
    "        return x  # [num_nodes]\n",
    "    \n",
    "# Section: Declare other model parameters\n",
    "device = torch.device('cuda' if torch.cuda.is_available() else 'cpu')\n",
    "model = simple_gnn_gcn(hidden_channels=72).to(device)\n",
    "loss_fn = nn.MSELoss()                                                # Loss function for regression\n",
    "optimizer = optim.Adam(model.parameters(), lr=0.01) "
   ]
  },
  {
   "cell_type": "markdown",
   "id": "b4ca6d2a",
   "metadata": {},
   "source": [
    "## 2 Training\n",
    "Define a function to train the model using the batched training data. After the final epoch, the function returns the predictions, targets, and losses from all epochs."
   ]
  },
  {
   "cell_type": "code",
   "execution_count": null,
   "id": "7c0c6028",
   "metadata": {},
   "outputs": [],
   "source": [
    "# Section: Training loop\n",
    "from tqdm import tqdm\n",
    "import time\n",
    "import torch\n",
    "from torch_geometric.loader import DataLoader\n",
    "\n",
    "def train_fn(epochs, model, train_path):\n",
    "    start = time.time()\n",
    "    model.train()\n",
    "    # Empty lists for predictions, targets, loss at each epoch\n",
    "    x_train, y_train, loss_epochs  = [], [], []\n",
    "    for i in tqdm(range(1, epochs+1), total=epochs, desc=\"Training model:\"):\n",
    "        for path in train_path:\n",
    "            data = torch.load(path, weights_only = False)\n",
    "            Dloaded = DataLoader(data, batch_size=100, shuffle=True)\n",
    "            total_loss = 0\n",
    "            for data in Dloaded:\n",
    "                optimizer.zero_grad()\n",
    "                data = data.to(device)\n",
    "                out = model(data)\n",
    "                loss = loss_fn(out, data.y)\n",
    "                loss.backward()\n",
    "                optimizer.step()\n",
    "                total_loss += loss.item()   # Accumulate loss\n",
    "        if i==(epochs):\n",
    "            x_train.append(out.cpu().detach().numpy()) \n",
    "            y_train.append(data.y.cpu().detach().numpy())\n",
    "        loss_epochs.append(total_loss)\n",
    "        elapsed_time = time.time() - start\n",
    "        print(f\"Elapsed time for training epoch {i}: {elapsed_time:.2f}\")\n",
    "    return x_train, y_train, loss_epochs\n",
    "\n",
    "x_train, y_train, loss_epochs = train_fn(epochs = 100, model = model, train_path = train_path)"
   ]
  },
  {
   "cell_type": "markdown",
   "id": "8ab60228",
   "metadata": {},
   "source": [
    "## 3 Validation \n"
   ]
  },
  {
   "cell_type": "code",
   "execution_count": null,
   "id": "6289db9d",
   "metadata": {},
   "outputs": [],
   "source": [
    "\n",
    "# SECTION: Validation-loop\n",
    "def val_fn(model, paths):\n",
    "    total_loss = 0\n",
    "    model.eval()  # Set to evaluation mode\n",
    "    start_time = time.time()\n",
    "    x_val, y_val = [], []\n",
    "    # Disable gradient computation\n",
    "    with torch.no_grad():  \n",
    "        for path in paths:\n",
    "                    data = torch.load(path, weights_only = False)\n",
    "                    Dloaded = DataLoader(data, batch_size=100, shuffle=True)\n",
    "                    for data in Dloaded:\n",
    "                        optimizer.zero_grad()\n",
    "                        data = data.to(device)\n",
    "                        out = model(data)\n",
    "                        loss = loss_fn(out, data.y)\n",
    "                        total_loss += loss.item()   # Accumulate loss\n",
    "                        x_val.append(out.cpu().numpy())\n",
    "                        y_val.append(data.y.cpu().numpy())\n",
    "    print(f\"Validation Loss = {total_loss:.4f}\")\n",
    "    elapsed_time = time.time() - start_time\n",
    "    print(f\"Validation completed in {elapsed_time:.2f} seconds\")\n",
    "    return x_val, y_val\n",
    "\n",
    "x_val, y_val = val_fn(model= model, paths = val_path)"
   ]
  },
  {
   "cell_type": "markdown",
   "id": "e575ab56",
   "metadata": {},
   "source": [
    "# 4. Plotting Functions\n",
    "\n",
    "Define functions for visualizing training results:\n",
    "* `loss_plt`: plots loss versus epochs.\n",
    "* `pred_plt`: plots predictions versus true targets."
   ]
  },
  {
   "cell_type": "markdown",
   "id": "daa53dda",
   "metadata": {},
   "source": [
    "## 4.1 Loss across epochs"
   ]
  },
  {
   "cell_type": "code",
   "execution_count": null,
   "id": "9d3b9087",
   "metadata": {},
   "outputs": [],
   "source": [
    "\n",
    "# Section: Loss vs epochs\n",
    "import matplotlib.pyplot as plt\n",
    "\n",
    "def loss_plt(loss = None, epochs = None, path = None ):\n",
    "    # After collecting your data\n",
    "    y = np.round(loss, 3)\n",
    "    x = list(range(1, epochs + 1))\n",
    "    # Create scatter plot\n",
    "    fig = plt.figure(figsize=(8, 8))\n",
    "    plt.plot(x, y, alpha=0.8)\n",
    "    # Add labels\n",
    "    plt.xlabel('Epochs')\n",
    "    plt.ylabel('Loss')\n",
    "    plt.title('Loss over epochs')\n",
    "    plt.grid(True, alpha=0.3)\n",
    "    # Set plot axis limits\n",
    "    y_min, y_max = min(y), max(y) + 0.5\n",
    "    plt.ylim(min(y) * 0.9, max(y) * 1.1)  # Add 10% padding\n",
    "    plt.xlim(0, max(x) + 1)\n",
    "    plt.tight_layout()\n",
    "    return fig\n",
    "\n",
    "fig = loss_plt(loss = loss_epochs, epochs = epochs)\n",
    "fig.savefig('/home/mriveraceron/glv-research/plots/9-Oct-preds.jpg', dpi=150, bbox_inches='tight')"
   ]
  },
  {
   "cell_type": "markdown",
   "id": "9934c785",
   "metadata": {},
   "source": [
    "## 4.2 Predictions vs targets "
   ]
  },
  {
   "cell_type": "code",
   "execution_count": null,
   "id": "8b02df0f",
   "metadata": {},
   "outputs": [],
   "source": [
    "import matplotlib.pyplot as plt\n",
    "\n",
    "def preds_plt(preds = None, tgts = None):\n",
    "    # Create scatter plot\n",
    "    fig = plt.figure(figsize=(8, 8))\n",
    "    # After collecting your data\n",
    "    x = np.concatenate(preds)  # predictions\n",
    "    y = np.concatenate(tgts)  # targets\n",
    "    # Generate log of preds and targets. \n",
    "    epsilon = 1e-8\n",
    "    y_log = np.log10(y + epsilon)\n",
    "    x_log = np.log10(x + epsilon)\n",
    "    plt.scatter(x_log, y_log, alpha=0.5)\n",
    "    # Add perfect prediction line (y=x)\n",
    "    plt.plot([0, y_log.max()], [0, y_log.max()], 'r--', label='Perfect prediction')\n",
    "    # Add labels\n",
    "    plt.xlabel('Predictions')\n",
    "    plt.ylabel('True Values')\n",
    "    plt.title('Predictions vs True Values')\n",
    "    plt.legend()\n",
    "    plt.grid(True, alpha=0.3)\n",
    "    # Set plot axis limits\n",
    "    plt.xlim(y_log.min(), y_log.max())\n",
    "    plt.ylim(y_log.min(), y_log.max())\n",
    "    plt.tight_layout()\n",
    "    return fig\n",
    "\n",
    "fig = preds_plt(preds = x_train, tgts = y_train)\n",
    "fig.savefig('/home/mriveraceron/glv-research/plots/9-Oct-preds.jpg', dpi=150, bbox_inches='tight')"
   ]
  },
  {
   "cell_type": "code",
   "execution_count": null,
   "id": "430c37cb",
   "metadata": {},
   "outputs": [],
   "source": [
    "np.any(x > 0)  # Returns True\n"
   ]
  }
 ],
 "metadata": {
  "language_info": {
   "name": "python"
  }
 },
 "nbformat": 4,
 "nbformat_minor": 5
}
