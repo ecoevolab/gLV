{
 "cells": [
  {
   "cell_type": "markdown",
   "id": "eef6c753",
   "metadata": {},
   "source": [
    "## Exploratory data analysis\n",
    "\n",
    "This code performs an exploratory data analysis of the metrics calculated from the extinction events. The analyzed metrics include:\n",
    "\n",
    "* Number of new extinctions (new_ext)\n",
    "\n",
    "* Bray–Curtis dissimilarity (BC_diss)\n",
    "\n",
    "* Keystoneness (K_s)\n",
    "\n",
    "* Time to stability after extinctions (ext_ts)"
   ]
  },
  {
   "cell_type": "code",
   "execution_count": null,
   "id": "b89da549",
   "metadata": {},
   "outputs": [],
   "source": [
    "# Load data\n",
    "import pandas as pd\n",
    "import numpy as np\n",
    "import os\n",
    "from datetime import datetime\n",
    "\n",
    "# Section: Generate-paths\n",
    "exp_dir = \"/mnt/data/sur/users/mrivera/Train-sims/4379fd40-9f0a\"\n",
    "tgt_dir = os.path.join(exp_dir, \"GNN-targets\")\n",
    "data_path = os.path.join(exp_dir, \"parameters-sims.tsv\")\n",
    "\n",
    "#  Load-data\n",
    "data = pd.read_csv(data_path, sep=\"\\t\")\n",
    "d20 = data.loc[data['n_species'] == 20]['id']\n",
    "d100 = data.loc[data['n_species'] == 100]['id']"
   ]
  },
  {
   "cell_type": "code",
   "execution_count": null,
   "id": "db791bb3",
   "metadata": {},
   "outputs": [],
   "source": [
    "# We will be plotting extinctions distribution separated by number of species.\n",
    "import pyarrow.feather as ft\n",
    "import numpy as np\n",
    "from multiprocessing import Pool\n",
    "\n",
    "def read_data(id):\n",
    "    x = ft.read_table(os.path.join(tgt_dir, f'tgt_{id}.feather'))\n",
    "    ext = x['new_ext'].to_pandas()\n",
    "    Bc = round(np.log10(x['BC_diss'].to_pandas()), 2 )\n",
    "    Ks = round(np.log10(x['K_s'].to_pandas()), 2)\n",
    "    return ext, Bc, Ks\n",
    "\n",
    "y1, y2, y3 = read_data(id)\n",
    "ext20, Bc20, Ks20 = [], [], []\n",
    "\n",
    "del ext, Bc, Ks\n",
    "if __name__ == '__main__':\n",
    "    with Pool(processes=8) as pool:\n",
    "        results = pool.map(read_data, d20)\n",
    "    # Unpack and convert to numpy arrays\n",
    "    ext, Bc, Ks = map(np.array, zip(*results))\n",
    "    # Flatten/concatenate the vectors\n",
    "    ext = np.concatenate(ext)\n",
    "    Bc = np.concatenate(Bc)\n",
    "    Ks = np.concatenate(Ks)\n"
   ]
  },
  {
   "cell_type": "code",
   "execution_count": null,
   "id": "1688e504",
   "metadata": {},
   "outputs": [],
   "source": [
    "# Histogram plot function\n",
    "import matplotlib.pyplot as plt\n",
    "import numpy as np\n",
    "%matplotlib inline\n",
    "\n",
    "np.random.seed(42)\n",
    "x = np.random.normal(size=1000)\n",
    "\n",
    "\n",
    "\n",
    "x = ext\n",
    "plt.hist(x, bins=20, color='steelblue', edgecolor='black', alpha=0.7)\n",
    "plt.title(\"Number of extinctions post perturbation\")\n",
    "plt.ylabel(\"Log-freq\")\n",
    "plt.xlabel(\"Number of extinctions\")\n",
    "plt.xticks(range(1,11))\n",
    "plt.grid(True, alpha=0.3, linestyle='--')\n",
    "plt.tight_layout()\n",
    "plt.savefig('/mnt/data/sur/users/mrivera/Plots/plot.png', dpi = 300)  # Saves as PNG\n",
    "\n"
   ]
  },
  {
   "cell_type": "code",
   "execution_count": null,
   "id": "cf7e66ae",
   "metadata": {},
   "outputs": [],
   "source": [
    "q25, q75 = np.percentile(x, [25, 75])\n",
    "bin_width = 2 * (q75 - q25) * len(x) ** (-1/3)\n",
    "bins = round((x.max() - x.min()) / bin_width)"
   ]
  }
 ],
 "metadata": {
  "language_info": {
   "name": "python"
  }
 },
 "nbformat": 4,
 "nbformat_minor": 5
}
