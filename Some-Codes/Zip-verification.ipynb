{
 "cells": [
  {
   "cell_type": "markdown",
   "id": "2afb5564",
   "metadata": {},
   "source": [
    "This code is for looking if I zipped all simulations."
   ]
  },
  {
   "cell_type": "code",
   "execution_count": null,
   "id": "840e0599",
   "metadata": {},
   "outputs": [],
   "source": [
    "# Load all feather files\n",
    "import glob\n",
    "import pandas as pd\n",
    "import re\n",
    "\n",
    "path = '/mnt/data/sur/users/mrivera/Train-sims/4379fd40-9f0a/parameters-sims.tsv'\n",
    "ids = pd.read_csv(path, sep=\"\\t\")['id']\n",
    "\n",
    "path = '/mnt/data/sur/users/mrivera/Train-sims/4379fd40-9f0a/PostExts-zips'\n",
    "files = glob.glob(f'{path}/*.zip')\n",
    "tmp =[]\n",
    "for file in files:\n",
    "    match = re.search(r'exts-([a-zA-Z0-9]+)\\.zip', file)\n",
    "    if match:\n",
    "        extracted = match.group(1)\n",
    "        tmp.append(extracted)\n",
    "print(f'>> The number of ids is {len(ids)}, while the number of zips are {len(tmp)}')\n"
   ]
  }
 ],
 "metadata": {
  "language_info": {
   "name": "python"
  }
 },
 "nbformat": 4,
 "nbformat_minor": 5
}
